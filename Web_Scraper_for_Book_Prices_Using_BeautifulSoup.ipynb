{
  "nbformat": 4,
  "nbformat_minor": 0,
  "metadata": {
    "colab": {
      "provenance": [],
      "authorship_tag": "ABX9TyOBkNQoaFqd3RJcgxepaUUe",
      "include_colab_link": true
    },
    "kernelspec": {
      "name": "python3",
      "display_name": "Python 3"
    },
    "language_info": {
      "name": "python"
    }
  },
  "cells": [
    {
      "cell_type": "markdown",
      "metadata": {
        "id": "view-in-github",
        "colab_type": "text"
      },
      "source": [
        "<a href=\"https://colab.research.google.com/github/shanthivijayan/Python-Data-Analysis/blob/main/Web_Scraper_for_Book_Prices_Using_BeautifulSoup.ipynb\" target=\"_parent\"><img src=\"https://colab.research.google.com/assets/colab-badge.svg\" alt=\"Open In Colab\"/></a>"
      ]
    },
    {
      "cell_type": "code",
      "execution_count": 1,
      "metadata": {
        "colab": {
          "base_uri": "https://localhost:8080/"
        },
        "id": "GSnfkswvM4D5",
        "outputId": "02af43e4-dfc4-4335-e1fc-0c7ba588f4bd"
      },
      "outputs": [
        {
          "output_type": "stream",
          "name": "stdout",
          "text": [
            "Scraping Successful! Data saved to books.csv\n"
          ]
        }
      ],
      "source": [
        "import requests\n",
        "from bs4 import BeautifulSoup\n",
        "import pandas as pd\n",
        "\n",
        "# URL of the website to scrape\n",
        "URL = \"https://books.toscrape.com/catalogue/category/books/science_22/index.html\"\n",
        "\n",
        "# Send a GET request to the website\n",
        "headers = {\"User-Agent\": \"Mozilla/5.0\"}\n",
        "response = requests.get(URL, headers=headers)\n",
        "\n",
        "# Check if the request was successful\n",
        "if response.status_code == 200:\n",
        "    # Parse HTML content using BeautifulSoup\n",
        "    soup = BeautifulSoup(response.text, \"html.parser\")\n",
        "\n",
        "    # Extract book details\n",
        "    books = soup.find_all(\"article\", class_=\"product_pod\")\n",
        "\n",
        "    book_data = []\n",
        "    for book in books:\n",
        "        title = book.h3.a[\"title\"]\n",
        "        price = book.find(\"p\", class_=\"price_color\").text\n",
        "        availability = book.find(\"p\", class_=\"instock availability\").text.strip()\n",
        "\n",
        "        book_data.append([title, price, availability])\n",
        "\n",
        "    # Convert data to a DataFrame\n",
        "    df = pd.DataFrame(book_data, columns=[\"Title\", \"Price\", \"Availability\"])\n",
        "\n",
        "    # Save to CSV\n",
        "    df.to_csv(\"books.csv\", index=False)\n",
        "\n",
        "    print(\"Scraping Successful! Data saved to books.csv\")\n",
        "else:\n",
        "    print(\"Failed to retrieve the webpage\")\n"
      ]
    }
  ]
}